{
 "cells": [
  {
   "cell_type": "code",
   "execution_count": 3,
   "id": "580f7617",
   "metadata": {},
   "outputs": [],
   "source": [
    "l=[1,2,3,4,5,\"gaurav\",True,40.2525]"
   ]
  },
  {
   "cell_type": "code",
   "execution_count": 19,
   "id": "22cd41ac",
   "metadata": {},
   "outputs": [
    {
     "data": {
      "text/plain": [
       "8"
      ]
     },
     "execution_count": 19,
     "metadata": {},
     "output_type": "execute_result"
    }
   ],
   "source": [
    "len(l)"
   ]
  },
  {
   "cell_type": "code",
   "execution_count": 12,
   "id": "a6f9c7e5",
   "metadata": {},
   "outputs": [
    {
     "data": {
      "text/plain": [
       "40.2525"
      ]
     },
     "execution_count": 12,
     "metadata": {},
     "output_type": "execute_result"
    }
   ],
   "source": [
    "l[7]"
   ]
  },
  {
   "cell_type": "code",
   "execution_count": 5,
   "id": "07ede4ad",
   "metadata": {},
   "outputs": [
    {
     "data": {
      "text/plain": [
       "True"
      ]
     },
     "execution_count": 5,
     "metadata": {},
     "output_type": "execute_result"
    }
   ],
   "source": [
    "l[-2]"
   ]
  },
  {
   "cell_type": "code",
   "execution_count": 6,
   "id": "9ede0494",
   "metadata": {},
   "outputs": [
    {
     "data": {
      "text/plain": [
       "[2, 3, 4, 5]"
      ]
     },
     "execution_count": 6,
     "metadata": {},
     "output_type": "execute_result"
    }
   ],
   "source": [
    "l[1:5]"
   ]
  },
  {
   "cell_type": "code",
   "execution_count": 10,
   "id": "df5e4127",
   "metadata": {},
   "outputs": [],
   "source": [
    "s=(\"1,2,3,4,5,'gaurav',True,40.2525\")"
   ]
  },
  {
   "cell_type": "code",
   "execution_count": 17,
   "id": "77370f5f",
   "metadata": {},
   "outputs": [
    {
     "data": {
      "text/plain": [
       "31"
      ]
     },
     "execution_count": 17,
     "metadata": {},
     "output_type": "execute_result"
    }
   ],
   "source": [
    "len(s)"
   ]
  },
  {
   "cell_type": "code",
   "execution_count": 20,
   "id": "aa1c8a06",
   "metadata": {},
   "outputs": [
    {
     "data": {
      "text/plain": [
       "[40.2525, True, 'gaurav', 5, 4, 3, 2, 1]"
      ]
     },
     "execution_count": 20,
     "metadata": {},
     "output_type": "execute_result"
    }
   ],
   "source": [
    "l[::-1]"
   ]
  },
  {
   "cell_type": "code",
   "execution_count": 23,
   "id": "78df47ba",
   "metadata": {},
   "outputs": [
    {
     "data": {
      "text/plain": [
       "[]"
      ]
     },
     "execution_count": 23,
     "metadata": {},
     "output_type": "execute_result"
    }
   ],
   "source": [
    "l[0:-9]"
   ]
  },
  {
   "cell_type": "code",
   "execution_count": 24,
   "id": "dc7664e6",
   "metadata": {},
   "outputs": [
    {
     "data": {
      "text/plain": [
       "\"1,2,3,4,5,'gaurav',Tr\""
      ]
     },
     "execution_count": 24,
     "metadata": {},
     "output_type": "execute_result"
    }
   ],
   "source": [
    "s[0:-10]"
   ]
  },
  {
   "cell_type": "code",
   "execution_count": 25,
   "id": "7c13a960",
   "metadata": {},
   "outputs": [
    {
     "data": {
      "text/plain": [
       "True"
      ]
     },
     "execution_count": 25,
     "metadata": {},
     "output_type": "execute_result"
    }
   ],
   "source": [
    "3 in l"
   ]
  },
  {
   "cell_type": "code",
   "execution_count": 26,
   "id": "3b4c21ef",
   "metadata": {},
   "outputs": [
    {
     "data": {
      "text/plain": [
       "False"
      ]
     },
     "execution_count": 26,
     "metadata": {},
     "output_type": "execute_result"
    }
   ],
   "source": [
    "40 in l"
   ]
  },
  {
   "cell_type": "code",
   "execution_count": 27,
   "id": "f064bbea",
   "metadata": {},
   "outputs": [
    {
     "data": {
      "text/plain": [
       "True"
      ]
     },
     "execution_count": 27,
     "metadata": {},
     "output_type": "execute_result"
    }
   ],
   "source": [
    "40.2525 in l"
   ]
  },
  {
   "cell_type": "code",
   "execution_count": 28,
   "id": "dd56f465",
   "metadata": {},
   "outputs": [
    {
     "ename": "TypeError",
     "evalue": "'>' not supported between instances of 'str' and 'int'",
     "output_type": "error",
     "traceback": [
      "\u001b[1;31m---------------------------------------------------------------------------\u001b[0m",
      "\u001b[1;31mTypeError\u001b[0m                                 Traceback (most recent call last)",
      "Input \u001b[1;32mIn [28]\u001b[0m, in \u001b[0;36m<cell line: 1>\u001b[1;34m()\u001b[0m\n\u001b[1;32m----> 1\u001b[0m \u001b[38;5;28;43mmax\u001b[39;49m\u001b[43m(\u001b[49m\u001b[43ml\u001b[49m\u001b[43m)\u001b[49m\n",
      "\u001b[1;31mTypeError\u001b[0m: '>' not supported between instances of 'str' and 'int'"
     ]
    }
   ],
   "source": [
    "max(l)"
   ]
  },
  {
   "cell_type": "code",
   "execution_count": 29,
   "id": "5f3dc805",
   "metadata": {},
   "outputs": [],
   "source": [
    "l1=[51,78,45,6,649]"
   ]
  },
  {
   "cell_type": "code",
   "execution_count": 60,
   "id": "1f5e9f6b",
   "metadata": {},
   "outputs": [
    {
     "data": {
      "text/plain": [
       "649"
      ]
     },
     "execution_count": 60,
     "metadata": {},
     "output_type": "execute_result"
    }
   ],
   "source": [
    "max(l1)"
   ]
  },
  {
   "cell_type": "code",
   "execution_count": 41,
   "id": "e56b3d11",
   "metadata": {},
   "outputs": [
    {
     "data": {
      "text/plain": [
       "[1,\n",
       " 2,\n",
       " 3,\n",
       " 4,\n",
       " 5,\n",
       " 'gaurav',\n",
       " True,\n",
       " 40.2525,\n",
       " 'sakpal',\n",
       " 'sakpal',\n",
       " 'sakpal',\n",
       " 'sakpal']"
      ]
     },
     "execution_count": 41,
     "metadata": {},
     "output_type": "execute_result"
    }
   ],
   "source": [
    "l"
   ]
  },
  {
   "cell_type": "code",
   "execution_count": 44,
   "id": "60d43a0c",
   "metadata": {},
   "outputs": [],
   "source": [
    "l.append(\"pappa\")"
   ]
  },
  {
   "cell_type": "code",
   "execution_count": 45,
   "id": "0983ada8",
   "metadata": {},
   "outputs": [
    {
     "data": {
      "text/plain": [
       "[1,\n",
       " 2,\n",
       " 3,\n",
       " 4,\n",
       " 5,\n",
       " 'gaurav',\n",
       " True,\n",
       " 40.2525,\n",
       " 'sakpal',\n",
       " 'sakpal',\n",
       " 'sakpal',\n",
       " 'sakpal',\n",
       " 'pappa',\n",
       " 'pappa',\n",
       " 'pappa']"
      ]
     },
     "execution_count": 45,
     "metadata": {},
     "output_type": "execute_result"
    }
   ],
   "source": [
    "l"
   ]
  },
  {
   "cell_type": "code",
   "execution_count": 46,
   "id": "c61c2731",
   "metadata": {},
   "outputs": [
    {
     "data": {
      "text/plain": [
       "[564, 'jfJ', 1, 18, 15, True]"
      ]
     },
     "execution_count": 46,
     "metadata": {},
     "output_type": "execute_result"
    }
   ],
   "source": [
    "l2=[564,\"jfJ\",1,18,15,True]\n",
    "l2()"
   ]
  },
  {
   "cell_type": "code",
   "execution_count": 47,
   "id": "d4f722b7",
   "metadata": {},
   "outputs": [],
   "source": [
    "l2.append(\"gaurav\")"
   ]
  },
  {
   "cell_type": "code",
   "execution_count": 48,
   "id": "13f95e5b",
   "metadata": {},
   "outputs": [
    {
     "data": {
      "text/plain": [
       "[564, 'jfJ', 1, 18, 15, True, 'gaurav']"
      ]
     },
     "execution_count": 48,
     "metadata": {},
     "output_type": "execute_result"
    }
   ],
   "source": [
    "l2"
   ]
  },
  {
   "cell_type": "code",
   "execution_count": 49,
   "id": "b3234c95",
   "metadata": {},
   "outputs": [],
   "source": [
    "l2.append([12,151,32,16,7])"
   ]
  },
  {
   "cell_type": "code",
   "execution_count": 50,
   "id": "5fb23530",
   "metadata": {},
   "outputs": [
    {
     "data": {
      "text/plain": [
       "[564, 'jfJ', 1, 18, 15, True, 'gaurav', [12, 151, 32, 16, 7]]"
      ]
     },
     "execution_count": 50,
     "metadata": {},
     "output_type": "execute_result"
    }
   ],
   "source": [
    "l2"
   ]
  },
  {
   "cell_type": "code",
   "execution_count": 51,
   "id": "41fada0a",
   "metadata": {},
   "outputs": [
    {
     "data": {
      "text/plain": [
       "'gaurav'"
      ]
     },
     "execution_count": 51,
     "metadata": {},
     "output_type": "execute_result"
    }
   ],
   "source": [
    "l2.pop(6)"
   ]
  },
  {
   "cell_type": "code",
   "execution_count": 52,
   "id": "1be9260e",
   "metadata": {},
   "outputs": [
    {
     "data": {
      "text/plain": [
       "[564, 'jfJ', 1, 18, 15, True, [12, 151, 32, 16, 7]]"
      ]
     },
     "execution_count": 52,
     "metadata": {},
     "output_type": "execute_result"
    }
   ],
   "source": [
    "l2"
   ]
  },
  {
   "cell_type": "code",
   "execution_count": 53,
   "id": "4cb92db4",
   "metadata": {},
   "outputs": [
    {
     "data": {
      "text/plain": [
       "\"1,2,3,4,5,'gaurav',True,40.2525\""
      ]
     },
     "execution_count": 53,
     "metadata": {},
     "output_type": "execute_result"
    }
   ],
   "source": [
    "s"
   ]
  },
  {
   "cell_type": "code",
   "execution_count": 54,
   "id": "0e4bc931",
   "metadata": {},
   "outputs": [
    {
     "data": {
      "text/plain": [
       "\"1,2,3,4,5,'GAURAV',TRUE,40.2525\""
      ]
     },
     "execution_count": 54,
     "metadata": {},
     "output_type": "execute_result"
    }
   ],
   "source": [
    "s.upper()"
   ]
  },
  {
   "cell_type": "code",
   "execution_count": 57,
   "id": "d2b641a0",
   "metadata": {},
   "outputs": [],
   "source": [
    "s=(s.upper())"
   ]
  },
  {
   "cell_type": "code",
   "execution_count": 58,
   "id": "452937a7",
   "metadata": {},
   "outputs": [
    {
     "data": {
      "text/plain": [
       "\"1,2,3,4,5,'GAURAV',TRUE,40.2525\""
      ]
     },
     "execution_count": 58,
     "metadata": {},
     "output_type": "execute_result"
    }
   ],
   "source": [
    "s"
   ]
  },
  {
   "cell_type": "code",
   "execution_count": 62,
   "id": "55af4a06",
   "metadata": {},
   "outputs": [
    {
     "data": {
      "text/plain": [
       "6"
      ]
     },
     "execution_count": 62,
     "metadata": {},
     "output_type": "execute_result"
    }
   ],
   "source": [
    "min(l1)"
   ]
  },
  {
   "cell_type": "code",
   "execution_count": 63,
   "id": "87976e3d",
   "metadata": {},
   "outputs": [],
   "source": [
    "l1=[15,3,84,46,11,4]\n",
    "l2=[\"hhh\",66,61,646,4,5]\n",
    "l3=[[121,84,14,41],\"gaurav\",54]"
   ]
  },
  {
   "cell_type": "code",
   "execution_count": 64,
   "id": "2264e71d",
   "metadata": {},
   "outputs": [],
   "source": [
    "l4=[l1,l2,l3]"
   ]
  },
  {
   "cell_type": "code",
   "execution_count": 65,
   "id": "a6e89374",
   "metadata": {},
   "outputs": [
    {
     "data": {
      "text/plain": [
       "[[15, 3, 84, 46, 11, 4],\n",
       " ['hhh', 66, 61, 646, 4, 5],\n",
       " [[121, 84, 14, 41], 'gaurav', 54]]"
      ]
     },
     "execution_count": 65,
     "metadata": {},
     "output_type": "execute_result"
    }
   ],
   "source": [
    "l4"
   ]
  },
  {
   "cell_type": "code",
   "execution_count": 66,
   "id": "1fda9508",
   "metadata": {},
   "outputs": [
    {
     "data": {
      "text/plain": [
       "84"
      ]
     },
     "execution_count": 66,
     "metadata": {},
     "output_type": "execute_result"
    }
   ],
   "source": [
    "l4[2][0][1]"
   ]
  },
  {
   "cell_type": "code",
   "execution_count": 67,
   "id": "70530cc4",
   "metadata": {},
   "outputs": [
    {
     "data": {
      "text/plain": [
       "[15, 3, 84, 46, 11, 4]"
      ]
     },
     "execution_count": 67,
     "metadata": {},
     "output_type": "execute_result"
    }
   ],
   "source": [
    "l1"
   ]
  },
  {
   "cell_type": "code",
   "execution_count": 68,
   "id": "8286780d",
   "metadata": {},
   "outputs": [
    {
     "data": {
      "text/plain": [
       "[15, 3, 84, 46, 11, 4]"
      ]
     },
     "execution_count": 68,
     "metadata": {},
     "output_type": "execute_result"
    }
   ],
   "source": [
    "l1"
   ]
  },
  {
   "cell_type": "code",
   "execution_count": 77,
   "id": "8374b045",
   "metadata": {},
   "outputs": [],
   "source": [
    "l1.extend('gaurav')"
   ]
  },
  {
   "cell_type": "code",
   "execution_count": 78,
   "id": "5b13ff52",
   "metadata": {},
   "outputs": [
    {
     "data": {
      "text/plain": [
       "[15,\n",
       " 3,\n",
       " 84,\n",
       " 46,\n",
       " 11,\n",
       " 4,\n",
       " 15,\n",
       " 65,\n",
       " 12,\n",
       " 15,\n",
       " 65,\n",
       " 12,\n",
       " 'gaurav',\n",
       " 'gaurav',\n",
       " 'g',\n",
       " 'a',\n",
       " 'u',\n",
       " 'r',\n",
       " 'a',\n",
       " 'v']"
      ]
     },
     "execution_count": 78,
     "metadata": {},
     "output_type": "execute_result"
    }
   ],
   "source": [
    "l1"
   ]
  },
  {
   "cell_type": "code",
   "execution_count": 76,
   "id": "e542ceda",
   "metadata": {},
   "outputs": [
    {
     "data": {
      "text/plain": [
       "[15, 3, 84, 46, 11, 4, 15, 65, 12, 15, 65, 12, 'gaurav', 'gaurav']"
      ]
     },
     "execution_count": 76,
     "metadata": {},
     "output_type": "execute_result"
    }
   ],
   "source": [
    "l1"
   ]
  },
  {
   "cell_type": "code",
   "execution_count": 79,
   "id": "89eb1a32",
   "metadata": {},
   "outputs": [],
   "source": [
    "l1.insert(3,['hashs','hsa','jgu'])"
   ]
  },
  {
   "cell_type": "code",
   "execution_count": 80,
   "id": "97c02c1c",
   "metadata": {},
   "outputs": [
    {
     "data": {
      "text/plain": [
       "[15,\n",
       " 3,\n",
       " 84,\n",
       " ['hashs', 'hsa', 'jgu'],\n",
       " 46,\n",
       " 11,\n",
       " 4,\n",
       " 15,\n",
       " 65,\n",
       " 12,\n",
       " 15,\n",
       " 65,\n",
       " 12,\n",
       " 'gaurav',\n",
       " 'gaurav',\n",
       " 'g',\n",
       " 'a',\n",
       " 'u',\n",
       " 'r',\n",
       " 'a',\n",
       " 'v']"
      ]
     },
     "execution_count": 80,
     "metadata": {},
     "output_type": "execute_result"
    }
   ],
   "source": [
    "l1"
   ]
  },
  {
   "cell_type": "code",
   "execution_count": 85,
   "id": "b85f2182",
   "metadata": {},
   "outputs": [],
   "source": [
    "l1.remove('g')"
   ]
  },
  {
   "cell_type": "code",
   "execution_count": 86,
   "id": "5a06d78f",
   "metadata": {},
   "outputs": [
    {
     "data": {
      "text/plain": [
       "[15,\n",
       " 3,\n",
       " 84,\n",
       " ['hashs', 'hsa', 'jgu'],\n",
       " 46,\n",
       " 11,\n",
       " 4,\n",
       " 15,\n",
       " 65,\n",
       " 12,\n",
       " 15,\n",
       " 65,\n",
       " 12,\n",
       " 'gaurav',\n",
       " 'a',\n",
       " 'u',\n",
       " 'r',\n",
       " 'a',\n",
       " 'v']"
      ]
     },
     "execution_count": 86,
     "metadata": {},
     "output_type": "execute_result"
    }
   ],
   "source": [
    "l1"
   ]
  },
  {
   "cell_type": "code",
   "execution_count": 87,
   "id": "16ca107b",
   "metadata": {},
   "outputs": [
    {
     "data": {
      "text/plain": [
       "['hhh', 66, 61, 646, 4, 5]"
      ]
     },
     "execution_count": 87,
     "metadata": {},
     "output_type": "execute_result"
    }
   ],
   "source": [
    "l2"
   ]
  },
  {
   "cell_type": "code",
   "execution_count": 91,
   "id": "79d38827",
   "metadata": {},
   "outputs": [],
   "source": [
    "l2[3]=38"
   ]
  },
  {
   "cell_type": "code",
   "execution_count": 92,
   "id": "990fc789",
   "metadata": {},
   "outputs": [
    {
     "data": {
      "text/plain": [
       "['hhh', 66, 61, 38, 4, 5]"
      ]
     },
     "execution_count": 92,
     "metadata": {},
     "output_type": "execute_result"
    }
   ],
   "source": [
    "l2"
   ]
  },
  {
   "cell_type": "code",
   "execution_count": 89,
   "id": "f2d8ae20",
   "metadata": {},
   "outputs": [
    {
     "data": {
      "text/plain": [
       "\"1,2,3,4,5,'GAURAV',TRUE,40.2525\""
      ]
     },
     "execution_count": 89,
     "metadata": {},
     "output_type": "execute_result"
    }
   ],
   "source": [
    "s"
   ]
  },
  {
   "cell_type": "code",
   "execution_count": 93,
   "id": "c1b94919",
   "metadata": {},
   "outputs": [
    {
     "ename": "TypeError",
     "evalue": "'str' object does not support item assignment",
     "output_type": "error",
     "traceback": [
      "\u001b[1;31m---------------------------------------------------------------------------\u001b[0m",
      "\u001b[1;31mTypeError\u001b[0m                                 Traceback (most recent call last)",
      "Input \u001b[1;32mIn [93]\u001b[0m, in \u001b[0;36m<cell line: 1>\u001b[1;34m()\u001b[0m\n\u001b[1;32m----> 1\u001b[0m s[\u001b[38;5;241m3\u001b[39m]\u001b[38;5;241m=\u001b[39m\u001b[38;5;124m\"\u001b[39m\u001b[38;5;124mljazgj\u001b[39m\u001b[38;5;124m\"\u001b[39m\n",
      "\u001b[1;31mTypeError\u001b[0m: 'str' object does not support item assignment"
     ]
    }
   ],
   "source": [
    "s[3]=\"ljazgj\""
   ]
  },
  {
   "cell_type": "code",
   "execution_count": 94,
   "id": "bfe7c849",
   "metadata": {},
   "outputs": [],
   "source": [
    "t=('hhh', 66, 61, 646, 4, 51,485)"
   ]
  },
  {
   "cell_type": "code",
   "execution_count": 95,
   "id": "985f410f",
   "metadata": {},
   "outputs": [
    {
     "data": {
      "text/plain": [
       "('hhh', 66, 61, 646, 4, 51, 485)"
      ]
     },
     "execution_count": 95,
     "metadata": {},
     "output_type": "execute_result"
    }
   ],
   "source": [
    "t"
   ]
  },
  {
   "cell_type": "code",
   "execution_count": 96,
   "id": "cf92c2ee",
   "metadata": {},
   "outputs": [
    {
     "data": {
      "text/plain": [
       "tuple"
      ]
     },
     "execution_count": 96,
     "metadata": {},
     "output_type": "execute_result"
    }
   ],
   "source": [
    "type(t)"
   ]
  },
  {
   "cell_type": "code",
   "execution_count": 101,
   "id": "4bc16c6e",
   "metadata": {},
   "outputs": [
    {
     "data": {
      "text/plain": [
       "()"
      ]
     },
     "execution_count": 101,
     "metadata": {},
     "output_type": "execute_result"
    }
   ],
   "source": [
    "t[-2:-1:-1]"
   ]
  },
  {
   "cell_type": "code",
   "execution_count": 103,
   "id": "dd2e4a03",
   "metadata": {},
   "outputs": [
    {
     "data": {
      "text/plain": [
       "['hhh', 66, 61, 646, 4, 51, 485]"
      ]
     },
     "execution_count": 103,
     "metadata": {},
     "output_type": "execute_result"
    }
   ],
   "source": [
    "list(t)"
   ]
  },
  {
   "cell_type": "code",
   "execution_count": 104,
   "id": "06e25dfb",
   "metadata": {},
   "outputs": [],
   "source": [
    "t1=(list(t))"
   ]
  },
  {
   "cell_type": "code",
   "execution_count": 105,
   "id": "e173044a",
   "metadata": {},
   "outputs": [
    {
     "data": {
      "text/plain": [
       "['hhh', 66, 61, 646, 4, 51, 485]"
      ]
     },
     "execution_count": 105,
     "metadata": {},
     "output_type": "execute_result"
    }
   ],
   "source": [
    "t1"
   ]
  },
  {
   "cell_type": "code",
   "execution_count": 106,
   "id": "246ea773",
   "metadata": {},
   "outputs": [
    {
     "data": {
      "text/plain": [
       "('hhh', 66, 61, 646, 4, 51, 485)"
      ]
     },
     "execution_count": 106,
     "metadata": {},
     "output_type": "execute_result"
    }
   ],
   "source": [
    "tuple(t1)"
   ]
  },
  {
   "cell_type": "code",
   "execution_count": 107,
   "id": "48dc0a2a",
   "metadata": {},
   "outputs": [
    {
     "data": {
      "text/plain": [
       "[1,\n",
       " 2,\n",
       " 3,\n",
       " 4,\n",
       " 5,\n",
       " 'gaurav',\n",
       " True,\n",
       " 40.2525,\n",
       " 'sakpal',\n",
       " 'sakpal',\n",
       " 'sakpal',\n",
       " 'sakpal',\n",
       " 'pappa',\n",
       " 'pappa',\n",
       " 'pappa']"
      ]
     },
     "execution_count": 107,
     "metadata": {},
     "output_type": "execute_result"
    }
   ],
   "source": [
    "l"
   ]
  },
  {
   "cell_type": "code",
   "execution_count": 108,
   "id": "12cbfe7b",
   "metadata": {},
   "outputs": [
    {
     "data": {
      "text/plain": [
       "\"[1, 2, 3, 4, 5, 'gaurav', True, 40.2525, 'sakpal', 'sakpal', 'sakpal', 'sakpal', 'pappa', 'pappa', 'pappa']\""
      ]
     },
     "execution_count": 108,
     "metadata": {},
     "output_type": "execute_result"
    }
   ],
   "source": [
    "str(l)"
   ]
  },
  {
   "cell_type": "code",
   "execution_count": 109,
   "id": "27cb1fa6",
   "metadata": {},
   "outputs": [
    {
     "data": {
      "text/plain": [
       "{'name': 'gaurav', 'dob': '04081993', 'gender': 'male', 'age': '29'}"
      ]
     },
     "execution_count": 109,
     "metadata": {},
     "output_type": "execute_result"
    }
   ],
   "source": [
    "d={\"name\":\"gaurav\",\"dob\":\"04081993\", 'gender':\"male\", \"age\":\"29\"}\n",
    "d"
   ]
  },
  {
   "cell_type": "code",
   "execution_count": 113,
   "id": "85bd602b",
   "metadata": {},
   "outputs": [
    {
     "data": {
      "text/plain": [
       "dict_keys(['name', 'dob', 'gender', 'age'])"
      ]
     },
     "execution_count": 113,
     "metadata": {},
     "output_type": "execute_result"
    }
   ],
   "source": [
    "d.keys()"
   ]
  },
  {
   "cell_type": "code",
   "execution_count": 116,
   "id": "6d8bc49f",
   "metadata": {},
   "outputs": [
    {
     "data": {
      "text/plain": [
       "True"
      ]
     },
     "execution_count": 116,
     "metadata": {},
     "output_type": "execute_result"
    }
   ],
   "source": [
    "\"male\" in d[\"gender\"]"
   ]
  },
  {
   "cell_type": "code",
   "execution_count": 130,
   "id": "69d5e553",
   "metadata": {},
   "outputs": [],
   "source": [
    "d[\"act\"]=\"dance\""
   ]
  },
  {
   "cell_type": "code",
   "execution_count": 118,
   "id": "20e00d0b",
   "metadata": {},
   "outputs": [
    {
     "data": {
      "text/plain": [
       "{'name': 'gaurav',\n",
       " 'dob': '04081993',\n",
       " 'gender': 'male',\n",
       " 'age': '29',\n",
       " 'act': 'dance'}"
      ]
     },
     "execution_count": 118,
     "metadata": {},
     "output_type": "execute_result"
    }
   ],
   "source": [
    "d"
   ]
  },
  {
   "cell_type": "code",
   "execution_count": 119,
   "id": "b66bc2e0",
   "metadata": {},
   "outputs": [
    {
     "data": {
      "text/plain": [
       "{'123': '1544', 'ghhv': 'tfu', '154': '8451'}"
      ]
     },
     "execution_count": 119,
     "metadata": {},
     "output_type": "execute_result"
    }
   ],
   "source": [
    "d1={\"123\":\"1544\",\"ghhv\":\"tfu\",\"154\":\"8451\"}\n",
    "d1"
   ]
  },
  {
   "cell_type": "code",
   "execution_count": 127,
   "id": "0f02f189",
   "metadata": {},
   "outputs": [],
   "source": [
    "d[\"k1\"]=d1"
   ]
  },
  {
   "cell_type": "code",
   "execution_count": 128,
   "id": "58fdf5ad",
   "metadata": {},
   "outputs": [
    {
     "data": {
      "text/plain": [
       "{'name': 'gaurav',\n",
       " 'dob': '04081993',\n",
       " 'gender': 'male',\n",
       " 'age': '29',\n",
       " 'act': 'dance',\n",
       " 'k1': {'123': '1544', 'ghhv': 'tfu', '154': '8451'}}"
      ]
     },
     "execution_count": 128,
     "metadata": {},
     "output_type": "execute_result"
    }
   ],
   "source": [
    "d"
   ]
  },
  {
   "cell_type": "code",
   "execution_count": 135,
   "id": "12f80b0d",
   "metadata": {},
   "outputs": [
    {
     "data": {
      "text/plain": [
       "'8451'"
      ]
     },
     "execution_count": 135,
     "metadata": {},
     "output_type": "execute_result"
    }
   ],
   "source": [
    "d[\"k1\"]['154']"
   ]
  },
  {
   "cell_type": "code",
   "execution_count": 142,
   "id": "54632c7f",
   "metadata": {},
   "outputs": [],
   "source": [
    "D2={(12,64,31):[\"HGY,G,G\"],\"BIUG\":\"JLJKJSL\"}"
   ]
  },
  {
   "cell_type": "code",
   "execution_count": 143,
   "id": "1810e4eb",
   "metadata": {},
   "outputs": [
    {
     "data": {
      "text/plain": [
       "{(12, 64, 31): ['HGY,G,G'], 'BIUG': 'JLJKJSL'}"
      ]
     },
     "execution_count": 143,
     "metadata": {},
     "output_type": "execute_result"
    }
   ],
   "source": [
    "D2"
   ]
  },
  {
   "cell_type": "code",
   "execution_count": 145,
   "id": "6abd3037",
   "metadata": {},
   "outputs": [
    {
     "data": {
      "text/plain": [
       "['hhh', 66, 61, 38, 4, 5]"
      ]
     },
     "execution_count": 145,
     "metadata": {},
     "output_type": "execute_result"
    }
   ],
   "source": [
    "l2"
   ]
  },
  {
   "cell_type": "code",
   "execution_count": 146,
   "id": "80e98aae",
   "metadata": {},
   "outputs": [
    {
     "data": {
      "text/plain": [
       "[15,\n",
       " 3,\n",
       " 84,\n",
       " ['hashs', 'hsa', 'jgu'],\n",
       " 46,\n",
       " 11,\n",
       " 4,\n",
       " 15,\n",
       " 65,\n",
       " 12,\n",
       " 15,\n",
       " 65,\n",
       " 12,\n",
       " 'gaurav',\n",
       " 'a',\n",
       " 'u',\n",
       " 'r',\n",
       " 'a',\n",
       " 'v',\n",
       " 'hhh',\n",
       " 66,\n",
       " 61,\n",
       " 38,\n",
       " 4,\n",
       " 5]"
      ]
     },
     "execution_count": 146,
     "metadata": {},
     "output_type": "execute_result"
    }
   ],
   "source": [
    "l1+l2"
   ]
  },
  {
   "cell_type": "code",
   "execution_count": 147,
   "id": "d46b683c",
   "metadata": {},
   "outputs": [],
   "source": [
    "t2=l2"
   ]
  },
  {
   "cell_type": "code",
   "execution_count": 148,
   "id": "1db6d0fc",
   "metadata": {},
   "outputs": [
    {
     "data": {
      "text/plain": [
       "['hhh', 66, 61, 38, 4, 5]"
      ]
     },
     "execution_count": 148,
     "metadata": {},
     "output_type": "execute_result"
    }
   ],
   "source": [
    "t2"
   ]
  },
  {
   "cell_type": "code",
   "execution_count": 149,
   "id": "cd52eb43",
   "metadata": {},
   "outputs": [],
   "source": [
    "l2=t2"
   ]
  },
  {
   "cell_type": "code",
   "execution_count": 150,
   "id": "ce487cc5",
   "metadata": {},
   "outputs": [
    {
     "data": {
      "text/plain": [
       "['hhh', 66, 61, 38, 4, 5]"
      ]
     },
     "execution_count": 150,
     "metadata": {},
     "output_type": "execute_result"
    }
   ],
   "source": [
    "l2"
   ]
  },
  {
   "cell_type": "code",
   "execution_count": 152,
   "id": "701a62ad",
   "metadata": {},
   "outputs": [
    {
     "data": {
      "text/plain": [
       "{11, 12, 4, 4848, 54, 7, 845, 87, 89, 'hai'}"
      ]
     },
     "execution_count": 152,
     "metadata": {},
     "output_type": "execute_result"
    }
   ],
   "source": [
    "s={12,11,87,4,89,4,4848,4,845,7,54,\"hai\"}\n",
    "s"
   ]
  },
  {
   "cell_type": "code",
   "execution_count": 153,
   "id": "a5de9309",
   "metadata": {},
   "outputs": [
    {
     "data": {
      "text/plain": [
       "{11, 12, 4, 4848, 54, 7, 845, 87, 89, 'hai'}"
      ]
     },
     "execution_count": 153,
     "metadata": {},
     "output_type": "execute_result"
    }
   ],
   "source": [
    "s"
   ]
  },
  {
   "cell_type": "code",
   "execution_count": 155,
   "id": "6fad6ee8",
   "metadata": {},
   "outputs": [
    {
     "data": {
      "text/plain": [
       "[4, 7, 11, 12, 845, 4848, 'hai', 54, 87, 89]"
      ]
     },
     "execution_count": 155,
     "metadata": {},
     "output_type": "execute_result"
    }
   ],
   "source": [
    "list(s)"
   ]
  },
  {
   "cell_type": "code",
   "execution_count": 156,
   "id": "88be1620",
   "metadata": {},
   "outputs": [],
   "source": [
    "l5=list(s)"
   ]
  },
  {
   "cell_type": "code",
   "execution_count": 157,
   "id": "801901e2",
   "metadata": {},
   "outputs": [
    {
     "data": {
      "text/plain": [
       "[4, 7, 11, 12, 845, 4848, 'hai', 54, 87, 89]"
      ]
     },
     "execution_count": 157,
     "metadata": {},
     "output_type": "execute_result"
    }
   ],
   "source": [
    "l5"
   ]
  },
  {
   "cell_type": "code",
   "execution_count": 158,
   "id": "1f26e025",
   "metadata": {},
   "outputs": [
    {
     "data": {
      "text/plain": [
       "12"
      ]
     },
     "execution_count": 158,
     "metadata": {},
     "output_type": "execute_result"
    }
   ],
   "source": [
    "l5[3]"
   ]
  },
  {
   "cell_type": "code",
   "execution_count": 160,
   "id": "81307e45",
   "metadata": {},
   "outputs": [
    {
     "data": {
      "text/plain": [
       "{11, 12, 4, 4848, 54, 7, 845, 87, 'guguyfas', 'hai'}"
      ]
     },
     "execution_count": 160,
     "metadata": {},
     "output_type": "execute_result"
    }
   ],
   "source": [
    "s={4, 7, 11, 12, 845, 4848, 'hai', 54, 87, 87, 54,'guguyfas'}\n",
    "s"
   ]
  },
  {
   "cell_type": "code",
   "execution_count": 165,
   "id": "f75c5f87",
   "metadata": {},
   "outputs": [
    {
     "data": {
      "text/plain": [
       "{(1, 5, 6, 6, 6), 12, 4, 66}"
      ]
     },
     "execution_count": 165,
     "metadata": {},
     "output_type": "execute_result"
    }
   ],
   "source": [
    "s={(1,5,6,6,6),4,66,66,12,12}\n",
    "s"
   ]
  },
  {
   "cell_type": "code",
   "execution_count": 173,
   "id": "0b57b7e4",
   "metadata": {},
   "outputs": [],
   "source": [
    "s.discard(415)"
   ]
  },
  {
   "cell_type": "code",
   "execution_count": 171,
   "id": "822433de",
   "metadata": {},
   "outputs": [
    {
     "data": {
      "text/plain": [
       "{(1, 5, 6, 6, 6), 12, 66, 7}"
      ]
     },
     "execution_count": 171,
     "metadata": {},
     "output_type": "execute_result"
    }
   ],
   "source": [
    "s"
   ]
  },
  {
   "cell_type": "code",
   "execution_count": null,
   "id": "ffa8ac5b",
   "metadata": {},
   "outputs": [],
   "source": [
    "l = [3,4,5,6,7 , [23,456,67,8,78,78] , [345,56,87,8,98,9] , (234,6657,6) , {\"key1\" :\"sudh\" , 234:[23,45,656]}]\n",
    "1 . Try to reverse a list \n",
    "2. try to access 234 out of this list \n",
    "3 . try to access 456 \n",
    "4 . Try to extract only a list collection form list l \n",
    "5 . Try to extract \"sudh\"\n",
    "6 . Try to list all the key in dict element avaible in list \n",
    "7 . Try to extract all the value element form dict available in list"
   ]
  },
  {
   "cell_type": "code",
   "execution_count": 175,
   "id": "27390058",
   "metadata": {},
   "outputs": [
    {
     "data": {
      "text/plain": [
       "[3,\n",
       " 4,\n",
       " 5,\n",
       " 6,\n",
       " 7,\n",
       " [23, 456, 67, 8, 78, 78],\n",
       " [345, 56, 87, 8, 98, 9],\n",
       " (234, 6657, 6),\n",
       " {'key1': 'sudh', 234: [23, 45, 656]}]"
      ]
     },
     "execution_count": 175,
     "metadata": {},
     "output_type": "execute_result"
    }
   ],
   "source": [
    "l = [3,4,5,6,7 , [23,456,67,8,78,78] , [345,56,87,8,98,9] , (234,6657,6) , {\"key1\" :\"sudh\" , 234:[23,45,656]}]\n",
    "l"
   ]
  },
  {
   "cell_type": "code",
   "execution_count": 176,
   "id": "155d37dc",
   "metadata": {},
   "outputs": [
    {
     "data": {
      "text/plain": [
       "[{'key1': 'sudh', 234: [23, 45, 656]},\n",
       " (234, 6657, 6),\n",
       " [345, 56, 87, 8, 98, 9],\n",
       " [23, 456, 67, 8, 78, 78],\n",
       " 7,\n",
       " 6,\n",
       " 5,\n",
       " 4,\n",
       " 3]"
      ]
     },
     "execution_count": 176,
     "metadata": {},
     "output_type": "execute_result"
    }
   ],
   "source": [
    "l[::-1]"
   ]
  },
  {
   "cell_type": "code",
   "execution_count": 186,
   "id": "74632cf4",
   "metadata": {},
   "outputs": [
    {
     "data": {
      "text/plain": [
       "([23, 456, 67, 8, 78, 78], [345, 56, 87, 8, 98, 9])"
      ]
     },
     "execution_count": 186,
     "metadata": {},
     "output_type": "execute_result"
    }
   ],
   "source": [
    "l[5],l[6]"
   ]
  },
  {
   "cell_type": "code",
   "execution_count": 181,
   "id": "d2a2d0cb",
   "metadata": {},
   "outputs": [
    {
     "data": {
      "text/plain": [
       "False"
      ]
     },
     "execution_count": 181,
     "metadata": {},
     "output_type": "execute_result"
    }
   ],
   "source": [
    "t in l"
   ]
  },
  {
   "cell_type": "code",
   "execution_count": 183,
   "id": "4a5427d9",
   "metadata": {},
   "outputs": [
    {
     "ename": "TypeError",
     "evalue": "'<' not supported between instances of 'list' and 'int'",
     "output_type": "error",
     "traceback": [
      "\u001b[1;31m---------------------------------------------------------------------------\u001b[0m",
      "\u001b[1;31mTypeError\u001b[0m                                 Traceback (most recent call last)",
      "Input \u001b[1;32mIn [183]\u001b[0m, in \u001b[0;36m<cell line: 1>\u001b[1;34m()\u001b[0m\n\u001b[1;32m----> 1\u001b[0m \u001b[43ml\u001b[49m\u001b[38;5;241;43m.\u001b[39;49m\u001b[43msort\u001b[49m\u001b[43m(\u001b[49m\u001b[43m)\u001b[49m\n",
      "\u001b[1;31mTypeError\u001b[0m: '<' not supported between instances of 'list' and 'int'"
     ]
    }
   ],
   "source": [
    "l.sort()"
   ]
  },
  {
   "cell_type": "code",
   "execution_count": 190,
   "id": "9fc5c185",
   "metadata": {},
   "outputs": [],
   "source": [
    "s5=\"gaurav\"+\"sakpal\""
   ]
  },
  {
   "cell_type": "code",
   "execution_count": 191,
   "id": "0b426e70",
   "metadata": {},
   "outputs": [
    {
     "data": {
      "text/plain": [
       "'gauravsakpal'"
      ]
     },
     "execution_count": 191,
     "metadata": {},
     "output_type": "execute_result"
    }
   ],
   "source": [
    "s5"
   ]
  },
  {
   "cell_type": "code",
   "execution_count": 192,
   "id": "ef0299a5",
   "metadata": {},
   "outputs": [
    {
     "data": {
      "text/plain": [
       "{'name': 'gaurav',\n",
       " 'dob': '04081993',\n",
       " 'gender': 'male',\n",
       " 'age': '29',\n",
       " 'act': 'dance',\n",
       " 'k1': {'123': '1544', 'ghhv': 'tfu', '154': '8451'}}"
      ]
     },
     "execution_count": 192,
     "metadata": {},
     "output_type": "execute_result"
    }
   ],
   "source": [
    "d"
   ]
  },
  {
   "cell_type": "code",
   "execution_count": 196,
   "id": "d134378f",
   "metadata": {},
   "outputs": [],
   "source": [
    "d[\"29\"]=\"number\""
   ]
  },
  {
   "cell_type": "code",
   "execution_count": 197,
   "id": "01706d76",
   "metadata": {},
   "outputs": [
    {
     "data": {
      "text/plain": [
       "{'name': 'gaurav',\n",
       " 'dob': '04081993',\n",
       " 'gender': 'male',\n",
       " 'age': 'number',\n",
       " 'act': 'dance',\n",
       " 'k1': {'123': '1544', 'ghhv': 'tfu', '154': '8451'},\n",
       " '29': 'number'}"
      ]
     },
     "execution_count": 197,
     "metadata": {},
     "output_type": "execute_result"
    }
   ],
   "source": [
    "d"
   ]
  },
  {
   "cell_type": "code",
   "execution_count": 200,
   "id": "f56374fc",
   "metadata": {},
   "outputs": [],
   "source": [
    "d6={\"#\":\"bggk\"}"
   ]
  },
  {
   "cell_type": "code",
   "execution_count": 205,
   "id": "52f3bc34",
   "metadata": {},
   "outputs": [
    {
     "ename": "KeyError",
     "evalue": "'#'",
     "output_type": "error",
     "traceback": [
      "\u001b[1;31m---------------------------------------------------------------------------\u001b[0m",
      "\u001b[1;31mKeyError\u001b[0m                                  Traceback (most recent call last)",
      "Input \u001b[1;32mIn [205]\u001b[0m, in \u001b[0;36m<cell line: 1>\u001b[1;34m()\u001b[0m\n\u001b[1;32m----> 1\u001b[0m \u001b[43md6\u001b[49m\u001b[43m[\u001b[49m\u001b[38;5;124;43m\"\u001b[39;49m\u001b[38;5;124;43m#\u001b[39;49m\u001b[38;5;124;43m\"\u001b[39;49m\u001b[43m]\u001b[49m\n",
      "\u001b[1;31mKeyError\u001b[0m: '#'"
     ]
    }
   ],
   "source": [
    "d6[\"#\"]"
   ]
  },
  {
   "cell_type": "code",
   "execution_count": 214,
   "id": "8cecd13b",
   "metadata": {},
   "outputs": [
    {
     "data": {
      "text/plain": [
       "str"
      ]
     },
     "execution_count": 214,
     "metadata": {},
     "output_type": "execute_result"
    }
   ],
   "source": [
    "s=(\"uyk\")\n",
    "type(s)"
   ]
  },
  {
   "cell_type": "code",
   "execution_count": 213,
   "id": "ba8d4230",
   "metadata": {},
   "outputs": [
    {
     "ename": "TypeError",
     "evalue": "'tuple' object is not callable",
     "output_type": "error",
     "traceback": [
      "\u001b[1;31m---------------------------------------------------------------------------\u001b[0m",
      "\u001b[1;31mTypeError\u001b[0m                                 Traceback (most recent call last)",
      "Input \u001b[1;32mIn [213]\u001b[0m, in \u001b[0;36m<cell line: 1>\u001b[1;34m()\u001b[0m\n\u001b[1;32m----> 1\u001b[0m \u001b[43ms\u001b[49m\u001b[43m(\u001b[49m\u001b[38;5;241;43m2\u001b[39;49m\u001b[43m)\u001b[49m\n",
      "\u001b[1;31mTypeError\u001b[0m: 'tuple' object is not callable"
     ]
    }
   ],
   "source": [
    "s(2)"
   ]
  },
  {
   "cell_type": "code",
   "execution_count": 217,
   "id": "39eb6db8",
   "metadata": {},
   "outputs": [
    {
     "data": {
      "text/plain": [
       "set"
      ]
     },
     "execution_count": 217,
     "metadata": {},
     "output_type": "execute_result"
    }
   ],
   "source": [
    "s={\"iuiubui,hguyv\",1661,151,51,3551,4}\n",
    "type(s)"
   ]
  },
  {
   "cell_type": "code",
   "execution_count": 219,
   "id": "9cc8e10c",
   "metadata": {},
   "outputs": [],
   "source": [
    "s.add(45)"
   ]
  },
  {
   "cell_type": "code",
   "execution_count": 220,
   "id": "c87240ab",
   "metadata": {},
   "outputs": [
    {
     "data": {
      "text/plain": [
       "{151, 1661, 3551, 4, 45, 51, 'iuiubui,hguyv'}"
      ]
     },
     "execution_count": 220,
     "metadata": {},
     "output_type": "execute_result"
    }
   ],
   "source": [
    "s"
   ]
  },
  {
   "cell_type": "code",
   "execution_count": null,
   "id": "a6d88d5b",
   "metadata": {},
   "outputs": [],
   "source": []
  }
 ],
 "metadata": {
  "kernelspec": {
   "display_name": "Python 3 (ipykernel)",
   "language": "python",
   "name": "python3"
  },
  "language_info": {
   "codemirror_mode": {
    "name": "ipython",
    "version": 3
   },
   "file_extension": ".py",
   "mimetype": "text/x-python",
   "name": "python",
   "nbconvert_exporter": "python",
   "pygments_lexer": "ipython3",
   "version": "3.9.12"
  }
 },
 "nbformat": 4,
 "nbformat_minor": 5
}
